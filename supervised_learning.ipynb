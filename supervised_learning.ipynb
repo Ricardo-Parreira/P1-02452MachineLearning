{
 "cells": [
  {
   "cell_type": "code",
   "execution_count": null,
   "id": "cec160ff",
   "metadata": {},
   "outputs": [],
   "source": [
    "import pandas as pd\n",
    "import numpy as np\n",
    "import matplotlib.pyplot as plt\n",
    "import seaborn as sns\n",
    "from sklearn.model_selection import train_test_split\n",
    "from sklearn.preprocessing import StandardScaler\n"
   ]
  },
  {
   "cell_type": "markdown",
   "id": "da0c3659",
   "metadata": {},
   "source": [
    "## Shifting and rescaling data"
   ]
  },
  {
   "cell_type": "code",
   "execution_count": null,
   "id": "8d8d6bcc",
   "metadata": {},
   "outputs": [],
   "source": [
    "#receives a csv and returns a regularized dataframe\n",
    "def regularize_data(X):\n",
    "    df = pd.read_csv(X)\n",
    "    df_copy = df.copy()\n",
    "    continuous_features = ['sbp', 'tobacco', 'ldl', 'adiposity','typea', 'obesity', 'alcohol', 'age']\n",
    "\n",
    "    for feat in continuous_features:\n",
    "        #shifts the values to have mean 0 and std 1\n",
    "        df_copy[feat] = (df[feat] - df[feat].mean()) / df[feat].std()\n",
    "\n",
    "    #normalize non continuous features\n",
    "    df_copy['famhist'] = df_copy['famhist'].map({'Present': 1, 'Absent': 0})\n",
    "\n",
    "    return df_copy\n",
    "\n",
    "normalized_df = regularize_data('data.csv')\n",
    "\n",
    "#plot sbp before and after normalization side by side\n",
    "plt.figure(figsize=(10, 6))\n",
    "df = pd.read_csv('data.csv')\n",
    "sns.histplot(df['sbp'], bins=30, kde=True)\n",
    "plt.title('Distribution of Original SBP')\n",
    "plt.xlabel('Original SBP')\n",
    "plt.ylabel('Frequency')\n",
    "plt.show()\n",
    "\n",
    "\n",
    "plt.figure(figsize=(10, 6))\n",
    "sns.histplot(normalized_df['sbp'], bins=30, kde=True)\n",
    "plt.title('Distribution of Normalized SBP')\n",
    "plt.xlabel('Normalized SBP')\n",
    "plt.ylabel('Frequency')\n",
    "plt.show()\n",
    "\n"
   ]
  },
  {
   "cell_type": "markdown",
   "id": "95808408",
   "metadata": {},
   "source": [
    "# Neural Network\n"
   ]
  },
  {
   "cell_type": "code",
   "execution_count": null,
   "id": "f71f6083",
   "metadata": {},
   "outputs": [],
   "source": [
    "from tensorflow.keras.models import Sequential\n",
    "from tensorflow.keras.layers import Dense\n",
    "from scikeras.wrappers import KerasRegressor\n",
    "from tensorflow.keras.callbacks import EarlyStopping\n",
    "from sklearn.model_selection import cross_val_score, KFold\n",
    "\n",
    "\n",
    "df = regularize_data(\"data.csv\")\n",
    "#df = pd.read_csv(\"data.csv\")\n",
    "#df['famhist'] = df['famhist'].map({'Present': 1, 'Absent': 0})\n",
    "target = 'adiposity'\n",
    "\n",
    "drop_cols = [\"row.names\"]\n",
    "X = df.drop(columns=[target] + drop_cols)\n",
    "y = df[target]\n",
    "\n",
    "def build_ann(n_features_in_=X.shape[1]):\n",
    "    model = Sequential([\n",
    "        Dense(16, activation=\"relu\", input_shape=(n_features_in_,)),\n",
    "        Dense(8, activation=\"relu\"),\n",
    "        Dense(1)  # regression output\n",
    "    ])\n",
    "    model.compile(optimizer=\"adam\", loss=\"mse\", metrics=[\"mae\"])\n",
    "    return model\n",
    "\n",
    "#Stop training when a monitored metric has stopped improving\n",
    "early = EarlyStopping(monitor=\"val_loss\", patience=10, restore_best_weights=True)\n",
    "\n",
    "reg = KerasRegressor(\n",
    "    model=build_ann,\n",
    "    #model__n_features_in_=X.shape[1],\n",
    "    epochs=200,\n",
    "    batch_size=32,\n",
    "    verbose=0,\n",
    "    validation_split=0.2, #only here because of early stopping, to avoid overfitting\n",
    "    fit__callbacks=[early],\n",
    ")\n",
    "\n",
    "\n",
    "cv = KFold(n_splits=5, shuffle=True, random_state=42)\n",
    "scores = cross_val_score(reg, X, y, cv=cv, scoring='neg_mean_absolute_error', n_jobs=-1)\n",
    "print(\"MAE per fold:\", -scores)\n",
    "print(\"Mean MAE:\", -scores.mean())"
   ]
  }
 ],
 "metadata": {
  "kernelspec": {
   "display_name": "dtu",
   "language": "python",
   "name": "python3"
  },
  "language_info": {
   "codemirror_mode": {
    "name": "ipython",
    "version": 3
   },
   "file_extension": ".py",
   "mimetype": "text/x-python",
   "name": "python",
   "nbconvert_exporter": "python",
   "pygments_lexer": "ipython3",
   "version": "3.11.13"
  }
 },
 "nbformat": 4,
 "nbformat_minor": 5
}

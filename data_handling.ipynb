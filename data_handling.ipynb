{
 "cells": [
  {
   "cell_type": "markdown",
   "id": "9e4f29d2",
   "metadata": {},
   "source": [
    "# Data handling of the South African Coronary Disease Dataset\n"
   ]
  },
  {
   "cell_type": "code",
   "execution_count": null,
   "id": "6c2a965b",
   "metadata": {},
   "outputs": [],
   "source": [
    "import pandas as pd\n",
    "import seaborn\n",
    "import matplotlib\n",
    "import numpy"
   ]
  },
  {
   "cell_type": "code",
   "execution_count": null,
   "id": "426e8916",
   "metadata": {},
   "outputs": [],
   "source": [
    "data = pd.read_csv('data.csv')\n",
    "print(data.row)\n",
    "sbp = data['sbp']\n",
    "tobacco = data['tobacco']\n",
    "ldl = data['ldl']\n",
    "adiposity = data['adiposity']\n",
    "famhist = data['famhist']\n",
    "typea = data['typea']\n",
    "obesity = data['obesity']\n",
    "alcohol = data['alcohol']\n",
    "age = data['age']\n",
    "\n",
    "\n",
    "sbp_mean = sbp.mean()\n",
    "tobacco_mean = tobacco.mean()\n",
    "ldl_mean = ldl.mean()\n",
    "adiposity_mean = adiposity.mean()\n",
    "typea_mean = typea.mean()\n",
    "obesity_mean = obesity.mean()\n",
    "alcohol_mean = alcohol.mean()\n",
    "age_mean = age.mean()\n",
    "\n",
    "print(\"Mean SBP:\", sbp_mean)\n",
    "print(\"Mean Tobacco:\", tobacco_mean)"
   ]
  },
  {
   "cell_type": "markdown",
   "id": "d1b28876",
   "metadata": {},
   "source": [
    "### Data distribution"
   ]
  },
  {
   "cell_type": "code",
   "execution_count": null,
   "id": "e9a8e7e2",
   "metadata": {},
   "outputs": [],
   "source": [
    "#distribution of data into histograms - side by side\n",
    "import matplotlib.pyplot as plt\n",
    "\n",
    "# Create a figure with subplots arranged in a 4x2 grid\n",
    "fig, axes = plt.subplots(4, 2, figsize=(15, 16))\n",
    "fig.suptitle('Distribution of Variables', fontsize=16)\n",
    "\n",
    "# Plot histograms in each subplot with mean and median lines\n",
    "seaborn.histplot(sbp, ax=axes[0, 0])\n",
    "axes[0, 0].axvline(sbp.mean(), color='red', linestyle='--', label=f'Mean: {sbp.mean():.2f}')\n",
    "axes[0, 0].axvline(sbp.median(), color='blue', linestyle='-', label=f'Median: {sbp.median():.2f}')\n",
    "axes[0, 0].set_title('SBP')\n",
    "axes[0, 0].legend()\n",
    "\n",
    "seaborn.histplot(tobacco, ax=axes[0, 1])\n",
    "axes[0, 1].axvline(tobacco.mean(), color='red', linestyle='--', label=f'Mean: {tobacco.mean():.2f}')\n",
    "axes[0, 1].axvline(tobacco.median(), color='blue', linestyle='-', label=f'Median: {tobacco.median():.2f}')\n",
    "axes[0, 1].set_title('Tobacco')\n",
    "axes[0, 1].legend()\n",
    "\n",
    "seaborn.histplot(ldl, ax=axes[1, 0])\n",
    "axes[1, 0].axvline(ldl.mean(), color='red', linestyle='--', label=f'Mean: {ldl.mean():.2f}')\n",
    "axes[1, 0].axvline(ldl.median(), color='blue', linestyle='-', label=f'Median: {ldl.median():.2f}')\n",
    "axes[1, 0].set_title('LDL')\n",
    "axes[1, 0].legend()\n",
    "\n",
    "seaborn.histplot(adiposity, ax=axes[1, 1])\n",
    "axes[1, 1].axvline(adiposity.mean(), color='red', linestyle='--', label=f'Mean: {adiposity.mean():.2f}')\n",
    "axes[1, 1].axvline(adiposity.median(), color='blue', linestyle='-', label=f'Median: {adiposity.median():.2f}')\n",
    "axes[1, 1].set_title('Adiposity')\n",
    "axes[1, 1].legend()\n",
    "\n",
    "seaborn.histplot(typea, ax=axes[2, 0])\n",
    "axes[2, 0].axvline(typea.mean(), color='red', linestyle='--', label=f'Mean: {typea.mean():.2f}')\n",
    "axes[2, 0].axvline(typea.median(), color='blue', linestyle='-', label=f'Median: {typea.median():.2f}')\n",
    "axes[2, 0].set_title('Type A')\n",
    "axes[2, 0].legend()\n",
    "\n",
    "seaborn.histplot(obesity, ax=axes[2, 1])\n",
    "axes[2, 1].axvline(obesity.mean(), color='red', linestyle='--', label=f'Mean: {obesity.mean():.2f}')\n",
    "axes[2, 1].axvline(obesity.median(), color='blue', linestyle='-', label=f'Median: {obesity.median():.2f}')\n",
    "axes[2, 1].set_title('Obesity')\n",
    "axes[2, 1].legend()\n",
    "\n",
    "seaborn.histplot(alcohol, ax=axes[3, 0])\n",
    "axes[3, 0].axvline(alcohol.mean(), color='red', linestyle='--', label=f'Mean: {alcohol.mean():.2f}')\n",
    "axes[3, 0].axvline(alcohol.median(), color='blue', linestyle='-', label=f'Median: {alcohol.median():.2f}')\n",
    "axes[3, 0].set_title('Alcohol')\n",
    "axes[3, 0].legend()\n",
    "\n",
    "seaborn.histplot(age, ax=axes[3, 1])\n",
    "axes[3, 1].axvline(age.mean(), color='red', linestyle='--', label=f'Mean: {age.mean():.2f}')\n",
    "axes[3, 1].axvline(age.median(), color='blue', linestyle='-', label=f'Median: {age.median():.2f}')\n",
    "axes[3, 1].set_title('Age')\n",
    "axes[3, 1].legend()\n",
    "\n",
    "# Adjust layout to prevent overlap\n",
    "plt.tight_layout()\n",
    "plt.show()"
   ]
  }
 ],
 "metadata": {
  "kernelspec": {
   "display_name": "dtu02452",
   "language": "python",
   "name": "python3"
  },
  "language_info": {
   "codemirror_mode": {
    "name": "ipython",
    "version": 3
   },
   "file_extension": ".py",
   "mimetype": "text/x-python",
   "name": "python",
   "nbconvert_exporter": "python",
   "pygments_lexer": "ipython3",
   "version": "3.11.13"
  }
 },
 "nbformat": 4,
 "nbformat_minor": 5
}

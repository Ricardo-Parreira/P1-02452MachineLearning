{
 "cells": [
  {
   "cell_type": "code",
   "id": "initial_id",
   "metadata": {
    "collapsed": true,
    "ExecuteTime": {
     "end_time": "2025-09-23T14:20:36.679156Z",
     "start_time": "2025-09-23T14:20:36.200948Z"
    }
   },
   "source": [
    "import numpy as np\n",
    "import pandas as pd"
   ],
   "outputs": [],
   "execution_count": 1
  },
  {
   "metadata": {
    "ExecuteTime": {
     "end_time": "2025-09-23T14:21:35.607057Z",
     "start_time": "2025-09-23T14:21:35.588046Z"
    }
   },
   "cell_type": "code",
   "source": "messy_data = pd.read_csv(\"data.csv\", sep=\"\\t\", header=1)",
   "id": "e3d0057fcd631a81",
   "outputs": [],
   "execution_count": 2
  },
  {
   "metadata": {
    "ExecuteTime": {
     "end_time": "2025-09-23T17:45:02.945086Z",
     "start_time": "2025-09-23T17:45:02.941787Z"
    }
   },
   "cell_type": "code",
   "source": [
    "# Python\n",
    "total_missing = messy_data.isna().sum().sum()\n",
    "total_rows = messy_data.count().sum()\n",
    "print(total_missing)\n",
    "print(total_rows)"
   ],
   "id": "c463e7dbb63b5edd",
   "outputs": [
    {
     "name": "stdout",
     "output_type": "stream",
     "text": [
      "0\n",
      "461\n"
     ]
    }
   ],
   "execution_count": 13
  }
 ],
 "metadata": {
  "kernelspec": {
   "display_name": "Python 3",
   "language": "python",
   "name": "python3"
  },
  "language_info": {
   "codemirror_mode": {
    "name": "ipython",
    "version": 2
   },
   "file_extension": ".py",
   "mimetype": "text/x-python",
   "name": "python",
   "nbconvert_exporter": "python",
   "pygments_lexer": "ipython2",
   "version": "2.7.6"
  }
 },
 "nbformat": 4,
 "nbformat_minor": 5
}
